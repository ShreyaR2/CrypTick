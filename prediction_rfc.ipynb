{
  "nbformat": 4,
  "nbformat_minor": 0,
  "metadata": {
    "colab": {
      "provenance": []
    },
    "kernelspec": {
      "name": "python3",
      "display_name": "Python 3"
    },
    "language_info": {
      "name": "python"
    }
  },
  "cells": [
    {
      "cell_type": "code",
      "execution_count": null,
      "metadata": {
        "id": "GuwL5xfrRPtU"
      },
      "outputs": [],
      "source": [
        "import numpy as np\n",
        "import pandas as pd\n",
        "from sklearn.preprocessing import MinMaxScaler\n",
        "from sklearn.model_selection import train_test_split\n",
        "from sklearn.ensemble import RandomForestClassifier\n",
        "from sklearn.metrics import confusion_matrix\n",
        "from datetime import datetime as dt\n",
        "\n",
        "np.random.seed(4987645)\n"
      ]
    },
    {
      "cell_type": "code",
      "source": [
        "train_path = '/content/drive/MyDrive/anti/dataset/features_25S.csv'\n",
        "print(\"Time before training data import: \", dt.now())\n",
        "train_data_raw = pd.read_csv(train_path, on_bad_lines=\"skip\", engine='python')\n",
        "print(\"Time after training data import: \", dt.now())"
      ],
      "metadata": {
        "id": "npO32Ox9Rco3",
        "colab": {
          "base_uri": "https://localhost:8080/"
        },
        "outputId": "3fb2c7f9-d112-41b9-9a57-481eb2353a82"
      },
      "execution_count": null,
      "outputs": [
        {
          "output_type": "stream",
          "name": "stdout",
          "text": [
            "Time before training data import:  2025-01-10 17:36:05.288326\n",
            "Time after training data import:  2025-01-10 17:36:15.184811\n"
          ]
        }
      ]
    },
    {
      "cell_type": "code",
      "source": [
        "train_data_raw['avg_PV'] = train_data_raw['avg_price'] * train_data_raw['avg_volume']  # Example feature\n",
        "X_train_data = train_data_raw.drop(columns=['date', 'pump_index', 'symbol', 'gt'])\n",
        "X_train_data = X_train_data.drop(columns=['hour_cos'], errors='ignore')  # Drop column based on feature importance\n",
        "y_train_data = train_data_raw['gt']"
      ],
      "metadata": {
        "id": "bQ1VGhIKRlL-"
      },
      "execution_count": null,
      "outputs": []
    },
    {
      "cell_type": "code",
      "source": [
        "X_train = X_train_data.values\n",
        "y_train = y_train_data.values\n",
        "\n",
        "scaler = MinMaxScaler()\n",
        "X_train = scaler.fit_transform(X_train)"
      ],
      "metadata": {
        "id": "Xe9ae67PRmoe"
      },
      "execution_count": null,
      "outputs": []
    },
    {
      "cell_type": "code",
      "source": [
        "test_path = '/content/drive/MyDrive/anti/dataset/features_25S.csv'\n",
        "print(\"Time before test data import: \", dt.now())\n",
        "test_data_raw = pd.read_csv(test_path, on_bad_lines=\"skip\", engine='python')\n",
        "print(\"Time after test data import: \", dt.now())"
      ],
      "metadata": {
        "id": "hsYwh6mZRpCn",
        "colab": {
          "base_uri": "https://localhost:8080/"
        },
        "outputId": "2c918b7b-643e-4700-df52-9a7d87af5627"
      },
      "execution_count": null,
      "outputs": [
        {
          "output_type": "stream",
          "name": "stdout",
          "text": [
            "Time before test data import:  2025-01-10 17:36:15.368649\n",
            "Time after test data import:  2025-01-10 17:36:24.942310\n"
          ]
        }
      ]
    },
    {
      "cell_type": "code",
      "source": [
        "test_data_raw['avg_PV'] = test_data_raw['avg_price'] * test_data_raw['avg_volume']  # Example feature\n",
        "X_test_data = test_data_raw.drop(columns=['date', 'pump_index', 'symbol', 'gt'])\n",
        "X_test_data = X_test_data.drop(columns=['hour_cos'], errors='ignore')  # Drop column based on feature importance\n",
        "y_test_data = test_data_raw['gt']\n",
        "\n",
        "X_test = X_test_data.values\n",
        "y_test = y_test_data.values\n",
        "\n",
        "X_test = scaler.transform(X_test)"
      ],
      "metadata": {
        "id": "KkMKzSi5RrXw"
      },
      "execution_count": null,
      "outputs": []
    },
    {
      "cell_type": "code",
      "source": [
        "rfc = RandomForestClassifier(n_estimators=20, random_state=13)\n",
        "print(\"Time before RFC fit: \", dt.now())\n",
        "rfc.fit(X_train, y_train)\n",
        "print(\"Time after RFC fit: \", dt.now())\n",
        "\n",
        "# Predict on the test dataset\n",
        "y_pred = rfc.predict(X_test)"
      ],
      "metadata": {
        "id": "hy8RsxvqRtwd",
        "colab": {
          "base_uri": "https://localhost:8080/"
        },
        "outputId": "4089e839-4cfe-4731-d2c4-52e7ae534f2b"
      },
      "execution_count": null,
      "outputs": [
        {
          "output_type": "stream",
          "name": "stdout",
          "text": [
            "Time before RFC fit:  2025-01-10 17:36:25.041009\n",
            "Time after RFC fit:  2025-01-10 17:36:32.910793\n"
          ]
        }
      ]
    },
    {
      "cell_type": "code",
      "source": [
        "cm = confusion_matrix(y_test, y_pred)\n",
        "print(\"\\nConfusion Matrix and its ratios\")\n",
        "print(cm)\n",
        "TN = cm[0, 0]\n",
        "FN = cm[0, 1]\n",
        "FP = cm[1, 0]\n",
        "TP = cm[1, 1]\n",
        "\n",
        "m_precision = round(TP / (TP + FP), 4)\n",
        "m_TN_rate = round(TN / (TN + FP), 4)\n",
        "m_FP_rate = round(FP / (TN + FP), 4)\n",
        "m_recall = round(TP / (TP + FN), 4)\n",
        "m_accuracy = round((TP + TN) / cm.sum(), 4)\n",
        "\n",
        "print(\"Test Precision = Positive Predictive Value = \", m_precision)\n",
        "print(\"Test Specificity = True Negative Rate = \", m_TN_rate)\n",
        "print(\"Test 1-Specificity = False Positive Rate = \", m_FP_rate)\n",
        "print(\"Test Recall = Sensitivity = True Positive Rate = \", m_recall)\n",
        "print(\"Test Accuracy = \", m_accuracy)"
      ],
      "metadata": {
        "id": "j-XYnazvR8OP",
        "colab": {
          "base_uri": "https://localhost:8080/"
        },
        "outputId": "413f7ad8-74b3-4df8-a536-b28b493ccabc"
      },
      "execution_count": null,
      "outputs": [
        {
          "output_type": "stream",
          "name": "stdout",
          "text": [
            "\n",
            "Confusion Matrix and its ratios\n",
            "[[481840      0]\n",
            " [     3    314]]\n",
            "Test Precision = Positive Predictive Value =  0.9905\n",
            "Test Specificity = True Negative Rate =  1.0\n",
            "Test 1-Specificity = False Positive Rate =  0.0\n",
            "Test Recall = Sensitivity = True Positive Rate =  1.0\n",
            "Test Accuracy =  1.0\n"
          ]
        }
      ]
    },
    {
      "cell_type": "code",
      "source": [
        "feature_scores = pd.Series(rfc.feature_importances_, index=X_train_data.columns).sort_values(ascending=False)\n",
        "print(\"\\nFeature Importance:\")\n",
        "print(feature_scores)\n",
        "\n",
        "# Predicted Test Probabilities\n",
        "pp_test = pd.DataFrame(rfc.predict_proba(X_test), columns=['p_0', 'p_1'])\n",
        "pp_test['y'] = y_test\n",
        "\n",
        "print(\"\\nPredicted Test Probabilities (Sample):\")\n",
        "print(pp_test.head())"
      ],
      "metadata": {
        "id": "c2X2HXDSR86x",
        "colab": {
          "base_uri": "https://localhost:8080/"
        },
        "outputId": "c75f5839-1105-4ea3-f2e9-dc23ab0704d5"
      },
      "execution_count": null,
      "outputs": [
        {
          "output_type": "stream",
          "name": "stdout",
          "text": [
            "\n",
            "Feature Importance:\n",
            "std_rush_order    0.324994\n",
            "std_trades        0.180485\n",
            "avg_PV            0.125695\n",
            "avg_volume        0.100293\n",
            "avg_rush_order    0.099179\n",
            "std_volume        0.044699\n",
            "minute_cos        0.029937\n",
            "minute_sin        0.029049\n",
            "std_price         0.018164\n",
            "avg_price_max     0.018046\n",
            "hour_sin          0.014763\n",
            "avg_price         0.014697\n",
            "dtype: float64\n",
            "\n",
            "Predicted Test Probabilities (Sample):\n",
            "   p_0  p_1  y\n",
            "0  1.0  0.0  0\n",
            "1  1.0  0.0  0\n",
            "2  1.0  0.0  0\n",
            "3  1.0  0.0  0\n",
            "4  1.0  0.0  0\n"
          ]
        }
      ]
    }
  ]
}